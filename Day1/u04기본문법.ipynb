{
 "cells": [
  {
   "cell_type": "markdown",
   "metadata": {},
   "source": [
    "# Unit 4. 기본문법"
   ]
  },
  {
   "cell_type": "markdown",
   "metadata": {},
   "source": [
    "### 4.1 세미콜론"
   ]
  },
  {
   "cell_type": "code",
   "execution_count": 1,
   "metadata": {},
   "outputs": [
    {
     "name": "stdout",
     "output_type": "stream",
     "text": [
      "Hello\n"
     ]
    }
   ],
   "source": [
    "print(\"Hello\");"
   ]
  },
  {
   "cell_type": "code",
   "execution_count": 2,
   "metadata": {},
   "outputs": [
    {
     "name": "stdout",
     "output_type": "stream",
     "text": [
      "Hello\n",
      "Hello\n"
     ]
    }
   ],
   "source": [
    "print(\"Hello\");print(\"Hello\")"
   ]
  },
  {
   "cell_type": "markdown",
   "metadata": {},
   "source": [
    "### 4.2 주석 (Comment)"
   ]
  },
  {
   "cell_type": "code",
   "execution_count": 3,
   "metadata": {},
   "outputs": [
    {
     "name": "stdout",
     "output_type": "stream",
     "text": [
      "Hello World!\n"
     ]
    }
   ],
   "source": [
    "# 한줄짜리 주석\n",
    "print(\"Hello World!\")   #문장 뒤에 와도 됨"
   ]
  },
  {
   "cell_type": "code",
   "execution_count": 4,
   "metadata": {},
   "outputs": [],
   "source": [
    "# 블록 주석\n",
    "# 더하기\n",
    "# a = 1 + 2\n",
    "# print('Hello, world!')"
   ]
  },
  {
   "cell_type": "code",
   "execution_count": 6,
   "metadata": {},
   "outputs": [
    {
     "data": {
      "text/plain": [
       "' 더하기                  Alt + Shift + A\\na = 1 + 2                   #여러줄의 스트링(문자열) \"\"\"    \"\"\"\\nprint(\\'Hello, world!\\') '"
      ]
     },
     "execution_count": 6,
     "metadata": {},
     "output_type": "execute_result"
    }
   ],
   "source": [
    "#출력은 되지만 프로그램에 영향은 없음\n",
    "''' 더하기                  Alt + Shift + A\n",
    "a = 1 + 2                   #여러줄의 스트링(문자열) \"\"\"    \"\"\"\n",
    "print('Hello, world!') '''"
   ]
  },
  {
   "cell_type": "code",
   "execution_count": 7,
   "metadata": {},
   "outputs": [],
   "source": [
    "# 한글 표기\n",
    "\n",
    "# 국가 표준 - EUC-KR (CP949, ANSI) / MS-Office, 한글, MS Windows,... / 2byte 완성형 (가-힣)\n",
    "# 인터넷 표준 - utf-8 / 웹, DB, 프로그램, 파이썬 / 3byte 조합형 (초성 + 중성 + 종성)\n",
    "# VSC에서는 인코딩을 통해 두가지 전부 사용 가능 (Encoding : 부호화, Decoding : 복호화)"
   ]
  },
  {
   "cell_type": "markdown",
   "metadata": {},
   "source": [
    "### 4.3 들여쓰기(Indentation)"
   ]
  },
  {
   "cell_type": "code",
   "execution_count": 8,
   "metadata": {},
   "outputs": [],
   "source": [
    "# 파이썬에서는 프로그램의 동작 여부에 들여쓰기가 관여하게 된다.\n",
    "# 다른 언어에서 괄호로 구분하는 것을 들여쓰기를 통해 사용"
   ]
  },
  {
   "cell_type": "code",
   "execution_count": 9,
   "metadata": {},
   "outputs": [
    {
     "name": "stdout",
     "output_type": "stream",
     "text": [
      "10이 아닙니다.\n"
     ]
    }
   ],
   "source": [
    "a = 5\n",
    "if a ==10:\n",
    "    print(\"10입니다.\")\n",
    "else:\n",
    "    print(\"10이 아닙니다.\")"
   ]
  },
  {
   "cell_type": "code",
   "execution_count": 12,
   "metadata": {},
   "outputs": [
    {
     "name": "stdout",
     "output_type": "stream",
     "text": [
      "10입니다.\n",
      "10이 아닙니다.\n"
     ]
    }
   ],
   "source": [
    "a = 10\n",
    "if a ==10:\n",
    "    print(\"10입니다.\")\n",
    "else:\n",
    "    a = 20\n",
    "print(\"10이 아닙니다.\")     #엉뚱한 결과"
   ]
  },
  {
   "cell_type": "markdown",
   "metadata": {},
   "source": [
    "### 4.4 코드블럭"
   ]
  },
  {
   "cell_type": "code",
   "execution_count": 14,
   "metadata": {},
   "outputs": [
    {
     "name": "stdout",
     "output_type": "stream",
     "text": [
      "10\n",
      "입니다\n"
     ]
    }
   ],
   "source": [
    "# 파이썬에서 블록은 indentation으로 나눠짐\n",
    "# Shift + Tab : 들여쓴 것을 다시 앞으로 당길 수 있음 (백탭)\n",
    "\n",
    "if a == 10:\n",
    "    print(\"10\")\n",
    "    print(\"입니다\")"
   ]
  },
  {
   "cell_type": "code",
   "execution_count": 15,
   "metadata": {},
   "outputs": [
    {
     "data": {
      "text/plain": [
       "' if(a == 10){\\n    print(\"10\")\\n    print(\"입니다.\")\\n} '"
      ]
     },
     "execution_count": 15,
     "metadata": {},
     "output_type": "execute_result"
    }
   ],
   "source": [
    "# 다른 프로그램\n",
    "''' if(a == 10){\n",
    "    print(\"10\")\n",
    "    print(\"입니다.\")\n",
    "} '''"
   ]
  },
  {
   "cell_type": "code",
   "execution_count": null,
   "metadata": {},
   "outputs": [],
   "source": []
  }
 ],
 "metadata": {
  "interpreter": {
   "hash": "27cc1592400a49e29347d731bddc25ead99330001d369613af25ccd9674a593a"
  },
  "kernelspec": {
   "display_name": "Python 3.9.7 ('base')",
   "language": "python",
   "name": "python3"
  },
  "language_info": {
   "codemirror_mode": {
    "name": "ipython",
    "version": 3
   },
   "file_extension": ".py",
   "mimetype": "text/x-python",
   "name": "python",
   "nbconvert_exporter": "python",
   "pygments_lexer": "ipython3",
   "version": "3.9.7"
  },
  "orig_nbformat": 4
 },
 "nbformat": 4,
 "nbformat_minor": 2
}
